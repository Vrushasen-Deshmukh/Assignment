{
 "cells": [
  {
   "cell_type": "code",
   "execution_count": 0,
   "metadata": {
    "application/vnd.databricks.v1+cell": {
     "cellMetadata": {
      "byteLimit": 2048000,
      "rowLimit": 10000
     },
     "inputWidgets": {},
     "nuid": "27b967f6-81e3-4bda-9f82-736b463fdd33",
     "showTitle": false,
     "tableResultSettingsMap": {},
     "title": ""
    }
   },
   "outputs": [
    {
     "output_type": "stream",
     "name": "stdout",
     "output_type": "stream",
     "text": [
      "<class 'int'>\n<class 'float'>\n<class 'str'>\n<class 'bool'>\n<class 'list'>\n<class 'complex'>\n<class 'set'>\n<class 'dict'>\n<class 'range'>\n"
     ]
    }
   ],
   "source": [
    "# 21. Write a program to declare variables of different data types and print their types.\n",
    "a = 3\n",
    "b = 3.14\n",
    "c = \"Zoltrox\"\n",
    "d = True\n",
    "e = [\"Moango\", \"Cherry\", \"Peach\"]\n",
    "f = 1j\n",
    "g = {9, 6, 5}\n",
    "i = {\"id\":\"56\", \"name\":\"Frieren\", \"email\":\"journeysend@gmail.com\"}\n",
    "j = range(5,15)\n",
    "\n",
    "print(type(a))\n",
    "print(type(b))\n",
    "print(type(c))\n",
    "print(type(d))\n",
    "print(type(e))\n",
    "print(type(f))\n",
    "print(type(g))\n",
    "print(type(i))\n",
    "print(type(j))"
   ]
  },
  {
   "cell_type": "code",
   "execution_count": 0,
   "metadata": {
    "application/vnd.databricks.v1+cell": {
     "cellMetadata": {
      "byteLimit": 2048000,
      "rowLimit": 10000
     },
     "inputWidgets": {},
     "nuid": "ce9bd4e3-cf06-41ab-bd38-2b63a7f2c9d7",
     "showTitle": false,
     "tableResultSettingsMap": {},
     "title": ""
    }
   },
   "outputs": [
    {
     "output_type": "display_data",
     "data": {
      "text/plain": [
       "Input string a:  Linux is"
      ]
     },
     "metadata": {},
     "output_type": "display_data"
    },
    {
     "output_type": "display_data",
     "data": {
      "text/plain": [
       "Input string b:  best"
      ]
     },
     "metadata": {},
     "output_type": "display_data"
    },
    {
     "output_type": "stream",
     "name": "stdout",
     "output_type": "stream",
     "text": [
      "Concatenated string:  Linux is best\n"
     ]
    }
   ],
   "source": [
    "# 22. Take two strings as input and concatenate them with a space.\n",
    "a = str(input(\"Input string a: \"))\n",
    "b = str(input(\"Input string b: \"))\n",
    "print(\"Concatenated string: \",a + \" \" + b)"
   ]
  },
  {
   "cell_type": "code",
   "execution_count": 0,
   "metadata": {
    "application/vnd.databricks.v1+cell": {
     "cellMetadata": {
      "byteLimit": 2048000,
      "rowLimit": 10000
     },
     "inputWidgets": {},
     "nuid": "0bccd693-80e6-48ab-bc04-1d6f32102888",
     "showTitle": false,
     "tableResultSettingsMap": {},
     "title": ""
    }
   },
   "outputs": [
    {
     "output_type": "stream",
     "name": "stdout",
     "output_type": "stream",
     "text": [
      "Removed white spaces:  Data Engineering\nData Engineering\n"
     ]
    }
   ],
   "source": [
    "# 23. Given a string \" Data Engineering \", remove spaces and convert it to uppercase.\n",
    "x = \" Data Engineering \"\n",
    "print(\"Removed white spaces: \", x.strip())\n",
    "x = x.strip()\n",
    "print(x)"
   ]
  },
  {
   "cell_type": "code",
   "execution_count": 0,
   "metadata": {
    "application/vnd.databricks.v1+cell": {
     "cellMetadata": {
      "byteLimit": 2048000,
      "rowLimit": 10000
     },
     "inputWidgets": {},
     "nuid": "6cd6b296-75b4-4c71-a159-c5b783ddb3bb",
     "showTitle": false,
     "tableResultSettingsMap": {},
     "title": ""
    }
   },
   "outputs": [
    {
     "output_type": "stream",
     "name": "stdout",
     "output_type": "stream",
     "text": [
      "Perspicacious\nFirst character:  P\nLast character:  s\n"
     ]
    }
   ],
   "source": [
    "# 24. Write a program to find the first and last character of a string.\n",
    "x = \"Perspicacious\"\n",
    "print(x)\n",
    "print(\"First character: \", x[0])\n",
    "print(\"Last character: \", x[-1])"
   ]
  },
  {
   "cell_type": "code",
   "execution_count": 0,
   "metadata": {
    "application/vnd.databricks.v1+cell": {
     "cellMetadata": {
      "byteLimit": 2048000,
      "rowLimit": 10000
     },
     "inputWidgets": {},
     "nuid": "c62e3528-03ca-48c3-928e-a32b769e477d",
     "showTitle": false,
     "tableResultSettingsMap": {},
     "title": ""
    }
   },
   "outputs": [
    {
     "output_type": "stream",
     "name": "stdout",
     "output_type": "stream",
     "text": [
      "Numbers:  [1, 2, 3, 4, 5]\nSquare:  [1, 4, 9, 16, 25]\n"
     ]
    }
   ],
   "source": [
    "# 25. Create a list of 5 integers and print the square of each using a loop.\n",
    "num = [1,2,3,4,5]\n",
    "sq = []\n",
    "for i in num:\n",
    "    i = i**2\n",
    "    sq.append(i)\n",
    "print(\"Numbers: \",num)\n",
    "print(\"Square: \", sq) "
   ]
  },
  {
   "cell_type": "code",
   "execution_count": 0,
   "metadata": {
    "application/vnd.databricks.v1+cell": {
     "cellMetadata": {
      "byteLimit": 2048000,
      "rowLimit": 10000
     },
     "inputWidgets": {},
     "nuid": "53201b05-e6e0-4be8-a919-ee43b6bac20d",
     "showTitle": false,
     "tableResultSettingsMap": {},
     "title": ""
    }
   },
   "outputs": [
    {
     "output_type": "stream",
     "name": "stdout",
     "output_type": "stream",
     "text": [
      "Original list:  ['Heal-On-Kill', 'Mechatronic Core', 'Subdermal Armor', 'Zetatech Berserk']\nModified list:  ['Heal-On-Kill', 'Smart Link', 'Subdermal Armor', 'Zetatech Berserk']\n"
     ]
    }
   ],
   "source": [
    "# 26. Write a program to change the second element of a list.\n",
    "cyberware = ['Heal-On-Kill', 'Mechatronic Core', 'Subdermal Armor', 'Zetatech Berserk']\n",
    "print(\"Original list: \", cyberware)\n",
    "cyberware[1] = \"Smart Link\"\n",
    "print(\"Modified list: \", cyberware)"
   ]
  },
  {
   "cell_type": "code",
   "execution_count": 0,
   "metadata": {
    "application/vnd.databricks.v1+cell": {
     "cellMetadata": {
      "byteLimit": 2048000,
      "rowLimit": 10000
     },
     "inputWidgets": {},
     "nuid": "69976e1a-5703-4fa4-bbe6-e2f6cfc9abb2",
     "showTitle": false,
     "tableResultSettingsMap": {},
     "title": ""
    }
   },
   "outputs": [
    {
     "output_type": "stream",
     "name": "stdout",
     "output_type": "stream",
     "text": [
      "Original list:  ['Rose', 'Tulip', 'Daisy']\nModified list:  ['Rose', 'Tulip', 'Daisy', 'Sunflower']\n"
     ]
    }
   ],
   "source": [
    "# 27. Add \"Sunflower\" to a list of flowers using append().\n",
    "flowers = ['Rose', 'Tulip', 'Daisy']\n",
    "print(\"Original list: \", flowers)\n",
    "flowers.append(\"Sunflower\")\n",
    "print(\"Modified list: \", flowers)"
   ]
  },
  {
   "cell_type": "code",
   "execution_count": 0,
   "metadata": {
    "application/vnd.databricks.v1+cell": {
     "cellMetadata": {
      "byteLimit": 2048000,
      "rowLimit": 10000
     },
     "inputWidgets": {},
     "nuid": "132945f5-025b-452f-b152-696abdedfaec",
     "showTitle": false,
     "tableResultSettingsMap": {},
     "title": ""
    }
   },
   "outputs": [
    {
     "output_type": "stream",
     "name": "stdout",
     "output_type": "stream",
     "text": [
      "Original list:  ['Rose', 'Tulip', 'Daisy']\nModified list:  ['Rose', 'Tulip', 'Orchid', 'Daisy']\n"
     ]
    }
   ],
   "source": [
    "# 28. Insert \"Orchid\" at position 2 in a list.\n",
    "flowers = ['Rose', 'Tulip', 'Daisy']\n",
    "print(\"Original list: \", flowers)\n",
    "flowers.insert(2, \"Orchid\")\n",
    "print(\"Modified list: \", flowers)"
   ]
  },
  {
   "cell_type": "code",
   "execution_count": 0,
   "metadata": {
    "application/vnd.databricks.v1+cell": {
     "cellMetadata": {
      "byteLimit": 2048000,
      "rowLimit": 10000
     },
     "inputWidgets": {},
     "nuid": "01004f35-ed38-4021-bb79-dca14eeeef3b",
     "showTitle": false,
     "tableResultSettingsMap": {},
     "title": ""
    }
   },
   "outputs": [
    {
     "output_type": "stream",
     "name": "stdout",
     "output_type": "stream",
     "text": [
      "Original List:  ['Rose', 'Tulip', 'Daisy']\nModified List:  ['Tulip', 'Daisy']\n"
     ]
    }
   ],
   "source": [
    "# 29. Remove \"Rose\" from a list of flowers.\n",
    "flowers = ['Rose', 'Tulip', 'Daisy']\n",
    "print(\"Original List: \",flowers)\n",
    "flowers.remove(\"Rose\")\n",
    "print(\"Modified List: \", flowers)"
   ]
  },
  {
   "cell_type": "code",
   "execution_count": 0,
   "metadata": {
    "application/vnd.databricks.v1+cell": {
     "cellMetadata": {
      "byteLimit": 2048000,
      "rowLimit": 10000
     },
     "inputWidgets": {},
     "nuid": "e84ca909-4021-456b-a784-253f875be38c",
     "showTitle": false,
     "tableResultSettingsMap": {},
     "title": ""
    }
   },
   "outputs": [
    {
     "output_type": "stream",
     "name": "stdout",
     "output_type": "stream",
     "text": [
      "Numbers list:  [1, 2, 3, 4, 5, 6, 4, 7, 8, 9, 10, 11, 12, 13, 14, 15, 16, 17, 18, 19, 20]\nEven numbers list:  [2, 4, 6, 4, 8, 10, 12, 14, 16, 18, 20]\n"
     ]
    }
   ],
   "source": [
    "# 30. Write a program to print only even numbers from a list.\n",
    "num = [1,2,3,4,5,6,4,7,8,9,10,11,12,13,14,15,16,17,18,19,20]\n",
    "even_num = []\n",
    "for i in num:\n",
    "    if i%2 == 0:\n",
    "        even_num.append(i)\n",
    "        i += 1\n",
    "print(\"Numbers list: \",num)\n",
    "print(\"Even numbers list: \",even_num)"
   ]
  },
  {
   "cell_type": "code",
   "execution_count": 0,
   "metadata": {
    "application/vnd.databricks.v1+cell": {
     "cellMetadata": {
      "byteLimit": 2048000,
      "rowLimit": 10000
     },
     "inputWidgets": {},
     "nuid": "5ce2c266-1925-4e09-a220-279c0c3f9258",
     "showTitle": false,
     "tableResultSettingsMap": {},
     "title": ""
    }
   },
   "outputs": [
    {
     "output_type": "stream",
     "name": "stdout",
     "output_type": "stream",
     "text": [
      "fruits_tuple:  ('Apple', 'Papaya', 'Watermelon', 'Dragon')\nThird Element:  Watermelon\n"
     ]
    }
   ],
   "source": [
    "# 31. Create a tuple of fruits and print the third element.\n",
    "fruits_tuple = (\"Apple\", \"Papaya\", \"Watermelon\", \"Dragon\")\n",
    "print(\"fruits_tuple: \", fruits_tuple)\n",
    "print(\"Third Element: \", fruits_tuple[2])"
   ]
  },
  {
   "cell_type": "code",
   "execution_count": 0,
   "metadata": {
    "application/vnd.databricks.v1+cell": {
     "cellMetadata": {
      "byteLimit": 2048000,
      "rowLimit": 10000
     },
     "inputWidgets": {},
     "nuid": "dbf80d58-bc9c-48d1-b4ec-4b956fcd4e9e",
     "showTitle": false,
     "tableResultSettingsMap": {},
     "title": ""
    }
   },
   "outputs": [
    {
     "output_type": "stream",
     "name": "stdout",
     "output_type": "stream",
     "text": [
      "cy_tuple:  ('Biomonitor', 'Bioconductor', 'Auxiliary Heart')\nData type:  <class 'tuple'>\n\nConverting to list\n\ncy_list:  ['Biomonitor', 'Bioconductor', 'Auxiliary Heart']\nData type:  <class 'list'>\n\nModifying List\n\ncy_list:  ['Biomonitor', 'Bioconductor', 'Auxiliary Heart', 'Kiroshi Optics']\n\nConverting back\n\ncy_tuple:  ('Biomonitor', 'Bioconductor', 'Auxiliary Heart', 'Kiroshi Optics')\n<class 'tuple'>\n"
     ]
    }
   ],
   "source": [
    "# 32. Convert a tuple to a list, modify it, and convert it back to a tuple.\n",
    "cy_tuple = ('Biomonitor', 'Bioconductor', 'Auxiliary Heart')\n",
    "print(\"cy_tuple: \", cy_tuple)\n",
    "print(\"Data type: \", type(cy_tuple))\n",
    "cy_list = list(cy_tuple)\n",
    "print(\"\\nConverting to list\\n\")\n",
    "print(\"cy_list: \", cy_list)\n",
    "print(\"Data type: \", type(cy_list))\n",
    "print(\"\\nModifying List\")\n",
    "cy_list.append(\"Kiroshi Optics\")\n",
    "print(\"\\ncy_list: \",cy_list)\n",
    "print(\"\\nConverting back\")\n",
    "cy_tuple = tuple(cy_list)\n",
    "print(\"\\ncy_tuple: \", cy_tuple)\n",
    "print(type(cy_tuple))"
   ]
  },
  {
   "cell_type": "code",
   "execution_count": 0,
   "metadata": {
    "application/vnd.databricks.v1+cell": {
     "cellMetadata": {
      "byteLimit": 2048000,
      "rowLimit": 10000
     },
     "inputWidgets": {},
     "nuid": "14e23f8a-4f88-4135-9118-744c757eb11d",
     "showTitle": false,
     "tableResultSettingsMap": {},
     "title": ""
    }
   },
   "outputs": [
    {
     "output_type": "stream",
     "name": "stdout",
     "output_type": "stream",
     "text": [
      "flowers:  ('Rose', 'Lotus', 'Lotus', 'Tulip', 'Lotus', 'Daisy')\nNumber of times 'Lotus' appears:  3\n"
     ]
    }
   ],
   "source": [
    "# 33. Count how many times \"Lotus\" appears in a tuple.\n",
    "flowers = ('Rose', 'Lotus', 'Lotus', 'Tulip', 'Lotus', 'Daisy')\n",
    "print(\"flowers: \", flowers)\n",
    "print(\"Number of times 'Lotus' appears: \", flowers.count(\"Lotus\"))"
   ]
  },
  {
   "cell_type": "code",
   "execution_count": 0,
   "metadata": {
    "application/vnd.databricks.v1+cell": {
     "cellMetadata": {
      "byteLimit": 2048000,
      "rowLimit": 10000
     },
     "inputWidgets": {},
     "nuid": "fce3a74a-d84a-491c-ae86-d8afacef8c95",
     "showTitle": false,
     "tableResultSettingsMap": {},
     "title": ""
    }
   },
   "outputs": [
    {
     "output_type": "stream",
     "name": "stdout",
     "output_type": "stream",
     "text": [
      "set1:  {1, 2, 3, 4, 5}\nset2:  {4, 5, 6, 7, 8}\nUnion:  {1, 2, 3, 4, 5, 6, 7, 8}\nIntersection:  {4, 5}\n"
     ]
    }
   ],
   "source": [
    "# 34. Create two sets and find their union and intersection.\n",
    "set1 = {1, 2, 3, 4, 5}\n",
    "set2 = {4, 5, 6, 7, 8}\n",
    "print(\"set1: \", set1)\n",
    "print(\"set2: \", set2)\n",
    "print(\"Union: \", set1.union(set2))\n",
    "print(\"Intersection: \", set1.intersection(set2))"
   ]
  },
  {
   "cell_type": "code",
   "execution_count": 0,
   "metadata": {
    "application/vnd.databricks.v1+cell": {
     "cellMetadata": {
      "byteLimit": 2048000,
      "rowLimit": 10000
     },
     "inputWidgets": {},
     "nuid": "b5317064-4fd8-463f-970a-922266f3aabe",
     "showTitle": false,
     "tableResultSettingsMap": {},
     "title": ""
    }
   },
   "outputs": [
    {
     "output_type": "stream",
     "name": "stdout",
     "output_type": "stream",
     "text": [
      "list1:  [1, 2, 3, 4, 5, 1, 2, 3, 4, 5]\nset1:  {1, 2, 3, 4, 5}\nlist2:  [1, 2, 3, 4, 5]\n"
     ]
    }
   ],
   "source": [
    "# 35. Write a program to remove duplicates from a list using a set.\n",
    "list1 = [1, 2, 3, 4, 5, 1, 2, 3, 4, 5]\n",
    "print(\"list1: \", list1)\n",
    "set1 = set(list1) # Converting list to set as sets dont allow duplicates\n",
    "print(\"set1: \", set1)\n",
    "list2 = list(set1) # Converting set back to list\n",
    "print(\"list2: \", list2)"
   ]
  },
  {
   "cell_type": "code",
   "execution_count": 0,
   "metadata": {
    "application/vnd.databricks.v1+cell": {
     "cellMetadata": {
      "byteLimit": 2048000,
      "rowLimit": 10000
     },
     "inputWidgets": {},
     "nuid": "71c99eb5-7c72-4e16-8594-43fb1e6f34a8",
     "showTitle": false,
     "tableResultSettingsMap": {},
     "title": ""
    }
   },
   "outputs": [
    {
     "output_type": "stream",
     "name": "stdout",
     "output_type": "stream",
     "text": [
      "numbers:  {1, 2, 3, 4, 5}\nnumbers after discard:  {1, 2, 4, 5}\n"
     ]
    }
   ],
   "source": [
    "# 36. Create a set of numbers and remove an element using discard(). \n",
    "numbers = {1, 2, 3, 4, 5}\n",
    "print(\"numbers: \", numbers)\n",
    "numbers.discard(3)\n",
    "print(\"numbers after discard: \", numbers)"
   ]
  },
  {
   "cell_type": "code",
   "execution_count": 0,
   "metadata": {
    "application/vnd.databricks.v1+cell": {
     "cellMetadata": {
      "byteLimit": 2048000,
      "rowLimit": 10000
     },
     "inputWidgets": {},
     "nuid": "cba86e5f-4f58-4d97-a9c2-1680c87d9bde",
     "showTitle": false,
     "tableResultSettingsMap": {},
     "title": ""
    }
   },
   "outputs": [
    {
     "output_type": "stream",
     "name": "stdout",
     "output_type": "stream",
     "text": [
      "1\n2\n3\n4\n5\n"
     ]
    }
   ],
   "source": [
    "# 37. Write a program to print all elements of a set using a loop.\n",
    "numset = {1, 2, 3, 4, 5}\n",
    "for i in numset:\n",
    "    print(i)\n",
    "    i += 1"
   ]
  },
  {
   "cell_type": "code",
   "execution_count": 0,
   "metadata": {
    "application/vnd.databricks.v1+cell": {
     "cellMetadata": {
      "byteLimit": 2048000,
      "rowLimit": 10000
     },
     "inputWidgets": {},
     "nuid": "89221763-c8bb-4006-9952-b015c0b41ca0",
     "showTitle": false,
     "tableResultSettingsMap": {},
     "title": ""
    }
   },
   "outputs": [
    {
     "output_type": "stream",
     "name": "stdout",
     "output_type": "stream",
     "text": [
      "string:  apple,banana,cherry\nlist1:  ['apple', 'banana', 'cherry']\n"
     ]
    }
   ],
   "source": [
    "# 38. Create a string \"apple,banana,cherry\" and split it into a list.\n",
    "string = \"apple,banana,cherry\"\n",
    "print(\"string: \", string)\n",
    "list1 = string.split(\",\")\n",
    "print(\"list1: \", list1)"
   ]
  },
  {
   "cell_type": "code",
   "execution_count": 0,
   "metadata": {
    "application/vnd.databricks.v1+cell": {
     "cellMetadata": {
      "byteLimit": 2048000,
      "rowLimit": 10000
     },
     "inputWidgets": {},
     "nuid": "bfbd9c21-427b-4109-8a52-ece5ad209b13",
     "showTitle": false,
     "tableResultSettingsMap": {},
     "title": ""
    }
   },
   "outputs": [
    {
     "output_type": "stream",
     "name": "stdout",
     "output_type": "stream",
     "text": [
      "list1:  ['Python', 'is', 'fun']\nstring:  Python-is-fun\n"
     ]
    }
   ],
   "source": [
    "# 39. Join a list ['Python', 'is', 'fun'] into a single string with - separator.\n",
    "list1 = ['Python', 'is', 'fun']\n",
    "print(\"list1: \", list1)\n",
    "string = '-'.join(list1)\n",
    "print(\"string: \", string)"
   ]
  },
  {
   "cell_type": "code",
   "execution_count": 0,
   "metadata": {
    "application/vnd.databricks.v1+cell": {
     "cellMetadata": {
      "byteLimit": 2048000,
      "rowLimit": 10000
     },
     "inputWidgets": {},
     "nuid": "0a414c43-3ef9-4495-99a2-7b1986deabb2",
     "showTitle": false,
     "tableResultSettingsMap": {},
     "title": ""
    }
   },
   "outputs": [
    {
     "output_type": "stream",
     "name": "stdout",
     "output_type": "stream",
     "text": [
      "string:  Python\nrev_string:  nohtyP\n"
     ]
    }
   ],
   "source": [
    "# 40. Write a program to reverse a string without using slicing.\n",
    "string = \"Python\"\n",
    "print(\"string: \", string)\n",
    "rev_string = \"\"\n",
    "for i in string:\n",
    "    rev_string = i + rev_string\n",
    "print(\"rev_string: \", rev_string)"
   ]
  }
 ],
 "metadata": {
  "application/vnd.databricks.v1+notebook": {
   "computePreferences": {
    "hardware": {
     "accelerator": null,
     "gpuPoolId": null,
     "memory": null
    }
   },
   "dashboards": [],
   "environmentMetadata": {
    "base_environment": "",
    "environment_version": "2"
   },
   "inputWidgetPreferences": null,
   "language": "python",
   "notebookMetadata": {
    "pythonIndentUnit": 4
   },
   "notebookName": "Practical Questions",
   "widgets": {}
  },
  "language_info": {
   "name": "python"
  }
 },
 "nbformat": 4,
 "nbformat_minor": 0
}