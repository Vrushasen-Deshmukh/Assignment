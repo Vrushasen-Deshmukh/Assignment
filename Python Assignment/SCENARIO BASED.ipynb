{
 "cells": [
  {
   "cell_type": "code",
   "execution_count": 0,
   "metadata": {
    "application/vnd.databricks.v1+cell": {
     "cellMetadata": {
      "byteLimit": 2048000,
      "rowLimit": 10000
     },
     "inputWidgets": {},
     "nuid": "99dc957f-8960-480c-8f01-1ff2c4b47d3c",
     "showTitle": false,
     "tableResultSettingsMap": {},
     "title": ""
    }
   },
   "outputs": [
    {
     "output_type": "stream",
     "name": "stdout",
     "output_type": "stream",
     "text": [
      "Sales elements:  [100, 200, 300, 150, 250]\nTotal sales:  1000\nAverage sales:  200.0\n"
     ]
    }
   ],
   "source": [
    "# 41. You have a list of sales amounts: [100, 200, 300, 150, 250]. Write Python code to find the total and average sales\n",
    "sales = [100, 200, 300, 150, 250]\n",
    "total = int()\n",
    "avg = float()\n",
    "for i in sales:\n",
    "    total = total + i\n",
    "    i += 1\n",
    "avg = total / len(sales)\n",
    "print(\"Sales elements: \", sales)\n",
    "print(\"Total sales: \", total)\n",
    "print(\"Average sales: \", avg)"
   ]
  },
  {
   "cell_type": "code",
   "execution_count": 0,
   "metadata": {
    "application/vnd.databricks.v1+cell": {
     "cellMetadata": {
      "byteLimit": 2048000,
      "rowLimit": 10000
     },
     "inputWidgets": {},
     "nuid": "6bc8747d-3a79-4cf1-a996-db45f222b7de",
     "showTitle": false,
     "tableResultSettingsMap": {},
     "title": ""
    }
   },
   "outputs": [
    {
     "output_type": "stream",
     "name": "stdout",
     "output_type": "stream",
     "text": [
      "names string:  Johnny, Rogue, Alt, Valerie\nSplit names into list:  ['Johnny', ' Rogue', ' Alt', ' Valerie']\n"
     ]
    }
   ],
   "source": [
    "# 42. Given a string containing names separated by commas, split them into a list and print each name.\n",
    "names = \"Johnny, Rogue, Alt, Valerie\"\n",
    "split = names.split(\",\")\n",
    "print(\"names string: \", names)\n",
    "print(\"Split names into list: \", split)"
   ]
  },
  {
   "cell_type": "code",
   "execution_count": 0,
   "metadata": {
    "application/vnd.databricks.v1+cell": {
     "cellMetadata": {
      "byteLimit": 2048000,
      "rowLimit": 10000
     },
     "inputWidgets": {},
     "nuid": "40988ace-8ef2-436d-a688-fdb6026e2ac7",
     "showTitle": false,
     "tableResultSettingsMap": {},
     "title": ""
    }
   },
   "outputs": [
    {
     "output_type": "stream",
     "name": "stdout",
     "output_type": "stream",
     "text": [
      "Atlanta\nAustin\n"
     ]
    }
   ],
   "source": [
    "# 44. Given a list of city names, print only those starting with \"A\".\n",
    "cities = [\"Atlanta\", \"Boston\", \"Chicago\", \"Denver\", \"Austin\"]\n",
    "for i in cities:\n",
    "    if i[0] == \"A\":\n",
    "        print(i)\n",
    "        "
   ]
  },
  {
   "cell_type": "code",
   "execution_count": 0,
   "metadata": {
    "application/vnd.databricks.v1+cell": {
     "cellMetadata": {
      "byteLimit": 2048000,
      "rowLimit": 10000
     },
     "inputWidgets": {},
     "nuid": "53739e9d-a82e-4de5-8914-69c75e66c4b5",
     "showTitle": false,
     "tableResultSettingsMap": {},
     "title": ""
    }
   },
   "outputs": [
    {
     "output_type": "stream",
     "name": "stdout",
     "output_type": "stream",
     "text": [
      "Ids of customers that ordered both spices and pickles:  {'CX_56_20', 'ZT_09_65', 'DW_48_15'}\n"
     ]
    }
   ],
   "source": [
    "# 45. You have two sets of customer IDs. Find customers present in both sets.\n",
    "pickleorders = {'QK_27_43','ZT_09_65','LM_84_02','RY_31_77','CX_56_20','HV_73_91','DW_48_15','NP_62_38'}\n",
    "spiceorders = {'ZT_09_65','CX_56_20','DW_48_15','BK_14_72', 'MF_83_29', 'TR_67_05', 'JW_42_18', 'SZ_95_34'}\n",
    "print(\"Ids of customers that ordered both spices and pickles: \", pickleorders.intersection(spiceorders))\n"
   ]
  },
  {
   "cell_type": "code",
   "execution_count": 0,
   "metadata": {
    "application/vnd.databricks.v1+cell": {
     "cellMetadata": {
      "byteLimit": 2048000,
      "rowLimit": 10000
     },
     "inputWidgets": {},
     "nuid": "f13bc67b-7999-4c76-a624-2cdcdeb91cdb",
     "showTitle": false,
     "tableResultSettingsMap": {},
     "title": ""
    }
   },
   "outputs": [
    {
     "output_type": "stream",
     "name": "stdout",
     "output_type": "stream",
     "text": [
      "Original list:  ['25°C', '30°C', '18°C', '22°C', '28°C', '35°C', '20°C', '18°C', '22°C', '28°C', '35°C', '28°C', '35°C']\nList after removing duplicates:  {'22°C', '28°C', '35°C', '20°C', '25°C', '18°C', '30°C'}\nList after removing duplicates and sorting:  ['18°C', '20°C', '22°C', '25°C', '28°C', '30°C', '35°C']\n"
     ]
    }
   ],
   "source": [
    "# 46. Given a list of temperatures, remove all duplicates and print sorted values.\n",
    "temp_list = ['25°C', '30°C', '18°C', '22°C', '28°C', '35°C', '20°C', '18°C', '22°C', '28°C', '35°C', '28°C', '35°C']\n",
    "print(\"Original list: \", temp_list)\n",
    "temp_lsit = set(temp_list)\n",
    "print(\"List after removing duplicates: \", temp_lsit)\n",
    "print(\"List after removing duplicates and sorting: \", sorted(temp_lsit))"
   ]
  },
  {
   "cell_type": "code",
   "execution_count": 0,
   "metadata": {
    "application/vnd.databricks.v1+cell": {
     "cellMetadata": {
      "byteLimit": 2048000,
      "rowLimit": 10000
     },
     "inputWidgets": {},
     "nuid": "96b0b1ce-aa66-486b-b609-ef4ab885849f",
     "showTitle": false,
     "tableResultSettingsMap": {},
     "title": ""
    }
   },
   "outputs": [
    {
     "output_type": "stream",
     "name": "stdout",
     "output_type": "stream",
     "text": [
      " 'Data' exists in the string\n"
     ]
    }
   ],
   "source": [
    "# 47. Write Python code to check if \"Data\" exists in a given string.\n",
    "string = \"In 2022 a legendary netrunner names as Rache Bartmos released series of Rogue AIs and viruses into the DEEP NET causing world wide Data crash\"\n",
    "if \"Data\" in string:\n",
    "    print(\" 'Data' exists in the string\")\n",
    "else:\n",
    "    print(\" 'Data' does not exist in the string\")"
   ]
  },
  {
   "cell_type": "code",
   "execution_count": 0,
   "metadata": {
    "application/vnd.databricks.v1+cell": {
     "cellMetadata": {
      "byteLimit": 2048000,
      "rowLimit": 10000
     },
     "inputWidgets": {},
     "nuid": "cdea0aee-531a-4bf1-957e-de2f72a7f0ad",
     "showTitle": false,
     "tableResultSettingsMap": {},
     "title": ""
    }
   },
   "outputs": [
    {
     "output_type": "stream",
     "name": "stdout",
     "output_type": "stream",
     "text": [
      "original weapons tuple:  ('Overture', 'Lexington', 'Unity', 'Nova', 'Carnage')\nweapons tuple after adding new product:  ('Overture', 'Lexington', 'Unity', 'Nova', 'Carnage', 'Cutomatic')\n"
     ]
    }
   ],
   "source": [
    "# 48. You have a tuple of product names. Convert it to a list, add a new product, and convert back to a tuple.\n",
    "weapons_tuple = (\"Overture\",\"Lexington\",\"Unity\", \"Nova\",\"Carnage\")\n",
    "print(\"original weapons tuple: \", weapons_tuple)\n",
    "weapons_list = list(weapons_tuple)\n",
    "weapons_list.append(\"Cutomatic\")\n",
    "weapons_tuple = tuple(weapons_list)\n",
    "print(\"weapons tuple after adding new product: \", weapons_tuple)"
   ]
  },
  {
   "cell_type": "code",
   "execution_count": 0,
   "metadata": {
    "application/vnd.databricks.v1+cell": {
     "cellMetadata": {
      "byteLimit": 2048000,
      "rowLimit": 10000
     },
     "inputWidgets": {},
     "nuid": "2896215f-7e02-4f7f-b5b9-9e3b5756fa2c",
     "showTitle": false,
     "tableResultSettingsMap": {},
     "title": ""
    }
   },
   "outputs": [
    {
     "output_type": "stream",
     "name": "stdout",
     "output_type": "stream",
     "text": [
      "Common elements: {3, 4, 5}\n"
     ]
    }
   ],
   "source": [
    "# 49. Given two lists of integers, find common elements without using loops.\n",
    "list1 = [1, 2, 3, 4, 5]\n",
    "list2 = [3, 4, 5, 6, 7]\n",
    "common_elements = set(list1).intersection(list2)\n",
    "print(\"Common elements:\", common_elements)"
   ]
  },
  {
   "cell_type": "code",
   "execution_count": 0,
   "metadata": {
    "application/vnd.databricks.v1+cell": {
     "cellMetadata": {
      "byteLimit": 2048000,
      "rowLimit": 10000
     },
     "inputWidgets": {},
     "nuid": "6e2d5499-3474-4722-88e3-2ca48aec2099",
     "showTitle": false,
     "tableResultSettingsMap": {},
     "title": ""
    }
   },
   "outputs": [
    {
     "output_type": "stream",
     "name": "stdout",
     "output_type": "stream",
     "text": [
      "Original Logs: {'WARNING: Low memory', 'ERROR: Disk full', 'ERROR: File not found', 'INFO: Process started', 'INFO: User login'}\nSet after removing 'INFO' logs:  {'WARNING: Low memory', 'ERROR: Disk full', 'ERROR: File not found'}\n"
     ]
    }
   ],
   "source": [
    "# 50. You have a set of log messages. Remove \"INFO\" messages from it.\n",
    "logs_set = {\"ERROR: Disk full\", \"INFO: User login\", \"WARNING: Low memory\", \"INFO: Process started\", \"ERROR: File not found\"}\n",
    "print(\"Original Logs:\", logs_set)\n",
    "logs_list = list(logs_set)\n",
    "for i in logs_set:\n",
    "    if i.startswith(\"INFO\"):\n",
    "        logs_list.remove(i)\n",
    "logs_set = set(logs_list)\n",
    "print(\"Set after removing 'INFO' logs: \", logs_set)"
   ]
  }
 ],
 "metadata": {
  "application/vnd.databricks.v1+notebook": {
   "computePreferences": null,
   "dashboards": [],
   "environmentMetadata": {
    "base_environment": "",
    "environment_version": "2"
   },
   "inputWidgetPreferences": null,
   "language": "python",
   "notebookMetadata": {
    "pythonIndentUnit": 4
   },
   "notebookName": "Scenario Based",
   "widgets": {}
  },
  "language_info": {
   "name": "python"
  }
 },
 "nbformat": 4,
 "nbformat_minor": 0
}